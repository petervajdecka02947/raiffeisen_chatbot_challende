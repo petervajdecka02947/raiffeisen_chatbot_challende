{
 "cells": [
  {
   "cell_type": "code",
   "execution_count": 1,
   "id": "e9370097-a055-41ca-bc61-71e1b1f44560",
   "metadata": {},
   "outputs": [],
   "source": [
    "#!pip install langchain\n",
    "#!pip install pinecone-client\n",
    "#!pip install openai\n",
    "#!pip install matplotlib\n",
    "#%pip install --upgrade tiktoken\n",
    "#%pip install --upgrade openai"
   ]
  },
  {
   "cell_type": "code",
   "execution_count": 2,
   "id": "ee64cc99-8f10-41b9-867c-ae18a7c91d5f",
   "metadata": {},
   "outputs": [],
   "source": [
    "# # Define your environment variables as a dictionary\n",
    "# env_variables = {\n",
    "#     'OPENAI_API_KEY': OPENAI_API_KEY,\n",
    "#     'PINECONE_API_KEY': PINECONE_API_KEY,\n",
    "#     'PINECONE_ENV': PINECONE_ENV,\n",
    "#     # Add more variables as needed\n",
    "# }\n",
    "\n",
    "# # Write the environment variables to .env file\n",
    "# with open('.env', 'w') as f:\n",
    "#     for key, value in env_variables.items():\n",
    "#         f.write(f'{key}={value}\\n')"
   ]
  },
  {
   "cell_type": "markdown",
   "id": "fbe8afa5-c374-4a3b-9519-29ad36e0afdd",
   "metadata": {},
   "source": [
    "# Load dependencies"
   ]
  },
  {
   "cell_type": "code",
   "execution_count": 3,
   "id": "1fffafcb-0a99-4333-95b6-c69c14b03e3d",
   "metadata": {},
   "outputs": [
    {
     "name": "stderr",
     "output_type": "stream",
     "text": [
      "/home/ubuntu/.local/lib/python3.10/site-packages/pinecone/index.py:4: TqdmExperimentalWarning: Using `tqdm.autonotebook.tqdm` in notebook mode. Use `tqdm.tqdm` instead to force console mode (e.g. in jupyter console)\n",
      "  from tqdm.autonotebook import tqdm\n"
     ]
    }
   ],
   "source": [
    "import pandas as pd\n",
    "import os\n",
    "import re\n",
    "import matplotlib.pyplot as plt\n",
    "from datetime import datetime\n",
    "import statistics\n",
    "import time\n",
    "\n",
    "from langchain.document_loaders import WebBaseLoader\n",
    "from langchain.vectorstores import Pinecone\n",
    "from langchain.embeddings.openai import OpenAIEmbeddings\n",
    "from langchain.chat_models import ChatOpenAI\n",
    "#from langchain.llms import OpenAI\n",
    "from langchain.memory import VectorStoreRetrieverMemory\n",
    "#from langchain.chains import ConversationChain\n",
    "from langchain.prompts import PromptTemplate\n",
    "from langchain.memory import ConversationBufferMemory\n",
    "from langchain.chains import ConversationalRetrievalChain\n",
    "from langchain.chains import RetrievalQAWithSourcesChain\n",
    "\n",
    "import pinecone"
   ]
  },
  {
   "cell_type": "code",
   "execution_count": 4,
   "id": "3344f6d0-f614-4334-a11c-3942bc4cb6a0",
   "metadata": {},
   "outputs": [],
   "source": [
    "OPENAI_API_KEY= \n",
    "PINECONE_API_KEY=\n",
    "PINECONE_ENV= "
   ]
  },
  {
   "cell_type": "markdown",
   "id": "c8d6078a-92fa-4307-a5ea-d285863346f6",
   "metadata": {},
   "source": [
    "# Functions"
   ]
  },
  {
   "cell_type": "code",
   "execution_count": 5,
   "id": "d05663b4-fc7c-4ac3-ba4e-bbaabd1d2c5b",
   "metadata": {},
   "outputs": [],
   "source": [
    "def num_tokens_from_string(text):\n",
    "    \"\"\"Returns the number of tokens in a text string.\"\"\"\n",
    "    encoding = tokenizer\n",
    "    num_tokens = len(encoding.encode(text))\n",
    "    return num_tokens \n",
    "\n",
    "def calculate_statistics(data):\n",
    "    # Calculate basic statistics\n",
    "    try:\n",
    "        mode_value = statistics.mode(data)\n",
    "    except statistics.StatisticsError:\n",
    "        mode_value = None  # In case there's no unique mode\n",
    "\n",
    "    return {\n",
    "        'mean': statistics.mean(data),\n",
    "        'median': statistics.median(data),\n",
    "        'mode': mode_value,\n",
    "        'variance': statistics.variance(data),\n",
    "        'standard_deviation': statistics.stdev(data),\n",
    "        'min': min(data),\n",
    "        'max': max(data)\n",
    "    }\n"
   ]
  },
  {
   "cell_type": "markdown",
   "id": "f550e7c6-f28b-4492-b0e4-991f6f5da0e6",
   "metadata": {},
   "source": [
    "# Load documentation"
   ]
  },
  {
   "cell_type": "code",
   "execution_count": 6,
   "id": "652134d2-a65f-4432-8ad8-3cbdbd53cf0b",
   "metadata": {},
   "outputs": [],
   "source": [
    "data = pd.read_csv('./data/pinterest-fashion-dataset_preprocessed.csv')\n",
    "data_links = data.image_url.to_list()"
   ]
  },
  {
   "cell_type": "code",
   "execution_count": 7,
   "id": "e8eb3d89-301d-424a-9184-9f387ecd51f6",
   "metadata": {},
   "outputs": [],
   "source": [
    "data_init= data.drop(['Unnamed: 0','user_name','image_url'], axis=1)"
   ]
  },
  {
   "cell_type": "code",
   "execution_count": 8,
   "id": "21b6db7e-7667-4f7e-b843-518089ac6b51",
   "metadata": {},
   "outputs": [
    {
     "data": {
      "text/html": [
       "<div>\n",
       "<style scoped>\n",
       "    .dataframe tbody tr th:only-of-type {\n",
       "        vertical-align: middle;\n",
       "    }\n",
       "\n",
       "    .dataframe tbody tr th {\n",
       "        vertical-align: top;\n",
       "    }\n",
       "\n",
       "    .dataframe thead th {\n",
       "        text-align: right;\n",
       "    }\n",
       "</style>\n",
       "<table border=\"1\" class=\"dataframe\">\n",
       "  <thead>\n",
       "    <tr style=\"text-align: right;\">\n",
       "      <th></th>\n",
       "      <th>age</th>\n",
       "      <th>gender</th>\n",
       "      <th>location</th>\n",
       "      <th>category</th>\n",
       "      <th>brand</th>\n",
       "      <th>price in $</th>\n",
       "      <th>click_rate</th>\n",
       "      <th>availability</th>\n",
       "      <th>ratings</th>\n",
       "      <th>image_description</th>\n",
       "    </tr>\n",
       "  </thead>\n",
       "  <tbody>\n",
       "    <tr>\n",
       "      <th>0</th>\n",
       "      <td>63</td>\n",
       "      <td>Male</td>\n",
       "      <td>Wollongong</td>\n",
       "      <td>Shoes</td>\n",
       "      <td>Converse</td>\n",
       "      <td>66.5</td>\n",
       "      <td>164</td>\n",
       "      <td>Available</td>\n",
       "      <td>5</td>\n",
       "      <td>These are white canvas lace-up sneakers with ...</td>\n",
       "    </tr>\n",
       "    <tr>\n",
       "      <th>1</th>\n",
       "      <td>63</td>\n",
       "      <td>Male</td>\n",
       "      <td>Wollongong</td>\n",
       "      <td>Shoes</td>\n",
       "      <td>Adidas</td>\n",
       "      <td>93.1</td>\n",
       "      <td>459</td>\n",
       "      <td>Available</td>\n",
       "      <td>2</td>\n",
       "      <td>These are women's wedge sandals with a black ...</td>\n",
       "    </tr>\n",
       "    <tr>\n",
       "      <th>2</th>\n",
       "      <td>63</td>\n",
       "      <td>Male</td>\n",
       "      <td>Wollongong</td>\n",
       "      <td>Shoes</td>\n",
       "      <td>Fila</td>\n",
       "      <td>66.5</td>\n",
       "      <td>402</td>\n",
       "      <td>Out of Stock</td>\n",
       "      <td>1</td>\n",
       "      <td>A pair of checkerboard slip-on shoes from Van...</td>\n",
       "    </tr>\n",
       "    <tr>\n",
       "      <th>3</th>\n",
       "      <td>63</td>\n",
       "      <td>Male</td>\n",
       "      <td>Wollongong</td>\n",
       "      <td>Shoes</td>\n",
       "      <td>Vans</td>\n",
       "      <td>66.5</td>\n",
       "      <td>209</td>\n",
       "      <td>Available</td>\n",
       "      <td>3</td>\n",
       "      <td>These are white leather mules with a unique, ...</td>\n",
       "    </tr>\n",
       "    <tr>\n",
       "      <th>4</th>\n",
       "      <td>63</td>\n",
       "      <td>Male</td>\n",
       "      <td>Wollongong</td>\n",
       "      <td>Shoes</td>\n",
       "      <td>Reebok</td>\n",
       "      <td>66.5</td>\n",
       "      <td>455</td>\n",
       "      <td>Available</td>\n",
       "      <td>3</td>\n",
       "      <td>These white leather slingback shoes are perfe...</td>\n",
       "    </tr>\n",
       "    <tr>\n",
       "      <th>...</th>\n",
       "      <td>...</td>\n",
       "      <td>...</td>\n",
       "      <td>...</td>\n",
       "      <td>...</td>\n",
       "      <td>...</td>\n",
       "      <td>...</td>\n",
       "      <td>...</td>\n",
       "      <td>...</td>\n",
       "      <td>...</td>\n",
       "      <td>...</td>\n",
       "    </tr>\n",
       "    <tr>\n",
       "      <th>990</th>\n",
       "      <td>32</td>\n",
       "      <td>Male</td>\n",
       "      <td>Tamworth</td>\n",
       "      <td>Skirts</td>\n",
       "      <td>ModCloth</td>\n",
       "      <td>35.7</td>\n",
       "      <td>224</td>\n",
       "      <td>Available</td>\n",
       "      <td>2</td>\n",
       "      <td>A red and white striped, high waisted, asymme...</td>\n",
       "    </tr>\n",
       "    <tr>\n",
       "      <th>991</th>\n",
       "      <td>32</td>\n",
       "      <td>Male</td>\n",
       "      <td>Tamworth</td>\n",
       "      <td>Shirts &amp; Tops</td>\n",
       "      <td>Levi's</td>\n",
       "      <td>25.5</td>\n",
       "      <td>308</td>\n",
       "      <td>Available</td>\n",
       "      <td>1</td>\n",
       "      <td>A black, round neck, cropped blouse with long...</td>\n",
       "    </tr>\n",
       "    <tr>\n",
       "      <th>992</th>\n",
       "      <td>32</td>\n",
       "      <td>Male</td>\n",
       "      <td>Tamworth</td>\n",
       "      <td>Shirts &amp; Tops</td>\n",
       "      <td>Tommy Hilfiger</td>\n",
       "      <td>25.5</td>\n",
       "      <td>492</td>\n",
       "      <td>Out of Stock</td>\n",
       "      <td>2</td>\n",
       "      <td>A black v-neck sleeveless t-shirt with a pock...</td>\n",
       "    </tr>\n",
       "    <tr>\n",
       "      <th>993</th>\n",
       "      <td>32</td>\n",
       "      <td>Male</td>\n",
       "      <td>Tamworth</td>\n",
       "      <td>Pants</td>\n",
       "      <td>Dickies</td>\n",
       "      <td>30.6</td>\n",
       "      <td>100</td>\n",
       "      <td>Available</td>\n",
       "      <td>4</td>\n",
       "      <td>Light blue, high-waisted, straight-leg jeans ...</td>\n",
       "    </tr>\n",
       "    <tr>\n",
       "      <th>994</th>\n",
       "      <td>32</td>\n",
       "      <td>Male</td>\n",
       "      <td>Tamworth</td>\n",
       "      <td>Pants</td>\n",
       "      <td>Dockers</td>\n",
       "      <td>30.6</td>\n",
       "      <td>337</td>\n",
       "      <td>Available</td>\n",
       "      <td>3</td>\n",
       "      <td>Light blue, high waisted, cropped, flare leg ...</td>\n",
       "    </tr>\n",
       "  </tbody>\n",
       "</table>\n",
       "<p>995 rows × 10 columns</p>\n",
       "</div>"
      ],
      "text/plain": [
       "     age gender    location       category           brand  price in $  \\\n",
       "0     63   Male  Wollongong          Shoes        Converse        66.5   \n",
       "1     63   Male  Wollongong          Shoes          Adidas        93.1   \n",
       "2     63   Male  Wollongong          Shoes            Fila        66.5   \n",
       "3     63   Male  Wollongong          Shoes            Vans        66.5   \n",
       "4     63   Male  Wollongong          Shoes          Reebok        66.5   \n",
       "..   ...    ...         ...            ...             ...         ...   \n",
       "990   32   Male    Tamworth         Skirts        ModCloth        35.7   \n",
       "991   32   Male    Tamworth  Shirts & Tops          Levi's        25.5   \n",
       "992   32   Male    Tamworth  Shirts & Tops  Tommy Hilfiger        25.5   \n",
       "993   32   Male    Tamworth          Pants         Dickies        30.6   \n",
       "994   32   Male    Tamworth          Pants         Dockers        30.6   \n",
       "\n",
       "     click_rate  availability  ratings  \\\n",
       "0           164     Available        5   \n",
       "1           459     Available        2   \n",
       "2           402  Out of Stock        1   \n",
       "3           209     Available        3   \n",
       "4           455     Available        3   \n",
       "..          ...           ...      ...   \n",
       "990         224     Available        2   \n",
       "991         308     Available        1   \n",
       "992         492  Out of Stock        2   \n",
       "993         100     Available        4   \n",
       "994         337     Available        3   \n",
       "\n",
       "                                     image_description  \n",
       "0     These are white canvas lace-up sneakers with ...  \n",
       "1     These are women's wedge sandals with a black ...  \n",
       "2     A pair of checkerboard slip-on shoes from Van...  \n",
       "3     These are white leather mules with a unique, ...  \n",
       "4     These white leather slingback shoes are perfe...  \n",
       "..                                                 ...  \n",
       "990   A red and white striped, high waisted, asymme...  \n",
       "991   A black, round neck, cropped blouse with long...  \n",
       "992   A black v-neck sleeveless t-shirt with a pock...  \n",
       "993   Light blue, high-waisted, straight-leg jeans ...  \n",
       "994   Light blue, high waisted, cropped, flare leg ...  \n",
       "\n",
       "[995 rows x 10 columns]"
      ]
     },
     "execution_count": 8,
     "metadata": {},
     "output_type": "execute_result"
    }
   ],
   "source": [
    "data_init"
   ]
  },
  {
   "cell_type": "code",
   "execution_count": 9,
   "id": "36200cce-4a12-49d4-a661-5214945dd564",
   "metadata": {},
   "outputs": [
    {
     "data": {
      "text/plain": [
       "Index(['age', 'gender', 'location', 'category', 'brand', 'price in $',\n",
       "       'click_rate', 'availability', 'ratings', 'image_description'],\n",
       "      dtype='object')"
      ]
     },
     "execution_count": 9,
     "metadata": {},
     "output_type": "execute_result"
    }
   ],
   "source": [
    "data_init.columns"
   ]
  },
  {
   "cell_type": "code",
   "execution_count": 10,
   "id": "56545987-9389-4b12-a4af-cd22c71a5194",
   "metadata": {},
   "outputs": [],
   "source": [
    "# Assuming data is a list of Document objects loaded by WebBaseLoader\n",
    "#loader = WebBaseLoader(data_links)\n",
    "#data = loader.load()\n",
    "\n",
    "# This dictionary will map document content to the shortest source link and the document itself\n",
    "content_to_document_map = {}\n",
    "\n",
    "#for doc in data:\n",
    "for index, row in data_init.iterrows():\n",
    "    doc_content = (\n",
    "    f\"Product {row['brand']} {row['category']} priced at ${row['price in $']} and bought by {row['gender']} aged {row['age']} \"\n",
    "    f\"in location {row['location']} was rated {row['ratings']} and having click_rate {row['click_rate']}. Description of the product:{row['image_description']}\"\n",
    "    f\" It is {row['availability']}.\")\n",
    "    #doc_content = row.to_json()\n",
    "    doc_source =  data_links[index] #doc.metadata['source']\n",
    "    \n",
    "    # Check if the document content is already in the map\n",
    "    # and if the current source URL is shorter than the one stored\n",
    "    if (doc_content not in content_to_document_map or \n",
    "            len(doc_source) < len(content_to_document_map[doc_content]['source'])):\n",
    "        content_to_document_map[doc_content] = {\n",
    "            'source': doc_source,\n",
    "            'document': doc_content  # Storing the document object directly\n",
    "        }\n",
    "\n",
    "# Now that we have our unique documents, we can create two lists\n",
    "unique_sources = [details['source'] for details in content_to_document_map.values()]\n",
    "unique_documents = [details['document'] for details in content_to_document_map.values()]"
   ]
  },
  {
   "cell_type": "code",
   "execution_count": 11,
   "id": "2c963e96-9864-4409-901a-d2e8f6238936",
   "metadata": {},
   "outputs": [],
   "source": [
    "data = unique_documents"
   ]
  },
  {
   "cell_type": "code",
   "execution_count": 12,
   "id": "4c9671ba-6c9a-4284-89ab-50a9c3891733",
   "metadata": {},
   "outputs": [
    {
     "data": {
      "text/plain": [
       "'Product Converse Shoes priced at $66.5 and bought by Male aged 63 in location Wollongong was rated 2 and having click_rate 446. Description of the product: A pair of pink Nike running shoes with white soles. The shoes have a breathable mesh upper and a rubber outsole. They are perfect for running, walking, or working out. It is Available.'"
      ]
     },
     "execution_count": 12,
     "metadata": {},
     "output_type": "execute_result"
    }
   ],
   "source": [
    "unique_documents[5]"
   ]
  },
  {
   "cell_type": "markdown",
   "id": "9f0c7dfe-e0b4-44db-b2f2-d635a42e50de",
   "metadata": {},
   "source": [
    "# Check histogram of token_lengths (to check that we can make embeddings out of input texts)"
   ]
  },
  {
   "cell_type": "code",
   "execution_count": 13,
   "id": "1148499a-bab8-461a-98c8-830ee97e6ccb",
   "metadata": {},
   "outputs": [],
   "source": [
    "import tiktoken"
   ]
  },
  {
   "cell_type": "code",
   "execution_count": 14,
   "id": "382b7e0d-eccc-47cb-a12f-9dd6a84a156a",
   "metadata": {},
   "outputs": [],
   "source": [
    "# https://github.com/openai/openai-cookbook/blob/main/examples/How_to_count_tokens_with_tiktoken.ipynb\n",
    "\n",
    "tokenizer  = tiktoken.get_encoding(\"cl100k_base\")"
   ]
  },
  {
   "cell_type": "code",
   "execution_count": 15,
   "id": "a5732ddd-4b6b-48fa-b03e-b116d8ae2569",
   "metadata": {},
   "outputs": [],
   "source": [
    "links_length = []\n",
    "\n",
    "# Example usage:\n",
    "input_text = \"Calculate the OpenAI input length in tokens.\"\n",
    "#print(\"Approximate token count:\", openai_approx_token_count(txt))\n",
    "for i in data:\n",
    "    len_txt = num_tokens_from_string(i)\n",
    "    links_length.append(len_txt)"
   ]
  },
  {
   "cell_type": "code",
   "execution_count": 16,
   "id": "9f9a7391-3c06-4988-b55a-3927b7308790",
   "metadata": {},
   "outputs": [
    {
     "data": {
      "image/png": "[encoded data removed]",
      "text/plain": [
       "<Figure size 640x480 with 1 Axes>"
      ]
     },
     "metadata": {},
     "output_type": "display_data"
    }
   ],
   "source": [
    "# Calculate bin width\n",
    "bin_width = 10  # You can change this value to adjust the width of the bins\n",
    "\n",
    "# Create bins with the specified width\n",
    "bins = range(min(links_length), max(links_length) + bin_width, bin_width)\n",
    "\n",
    "# Create histogram\n",
    "plt.hist(links_length, bins=bins, align='left', color='blue', edgecolor='black')\n",
    "\n",
    "# Adding titles and labels\n",
    "plt.title('Histogram of Document Lengths')\n",
    "plt.xlabel('No. Tokens')\n",
    "plt.ylabel('Frequency')\n",
    "\n",
    "# Show the plot\n",
    "plt.show()"
   ]
  },
  {
   "cell_type": "markdown",
   "id": "5b2bbcd0-9c2f-4bcb-944b-a303d646a4ab",
   "metadata": {},
   "source": [
    "# Prepare pinecone vector database"
   ]
  },
  {
   "cell_type": "code",
   "execution_count": 17,
   "id": "a53163d1-fd0e-46dd-85d3-ef16c31356aa",
   "metadata": {},
   "outputs": [],
   "source": [
    "pinecone.init(\n",
    "            api_key= PINECONE_API_KEY, # set api_key = 'yourapikey'\n",
    "            environment= PINECONE_ENV\n",
    ")"
   ]
  },
  {
   "cell_type": "code",
   "execution_count": 18,
   "id": "910975df-e1e0-4381-9039-b2cb08217789",
   "metadata": {},
   "outputs": [
    {
     "data": {
      "text/plain": [
       "[]"
      ]
     },
     "execution_count": 18,
     "metadata": {},
     "output_type": "execute_result"
    }
   ],
   "source": [
    "pinecone.list_indexes()"
   ]
  },
  {
   "cell_type": "code",
   "execution_count": 19,
   "id": "6066bb2c-3a37-44c2-95f0-f6ef530bbc21",
   "metadata": {},
   "outputs": [],
   "source": [
    "# try:\n",
    "#     pinecone.delete_index(pinecone.list_indexes()[0])\n",
    "#     print(\"Index removed from database!\")\n",
    "# except:\n",
    "#     print(\"There is no index in database!\")"
   ]
  },
  {
   "cell_type": "code",
   "execution_count": 20,
   "id": "d9159ec4-00ed-4c76-9a58-6b66f9593255",
   "metadata": {},
   "outputs": [],
   "source": [
    "index_n = \"raif\"\n",
    "if index_n not in pinecone.list_indexes():\n",
    "    pinecone.create_index(name=index_n, dimension=3072, metric='cosine') #  3072  1536\n",
    "\n",
    "index_name = pinecone.Index(index_n)"
   ]
  },
  {
   "cell_type": "markdown",
   "id": "e470f1f4-07a3-4569-94e8-65c7d2d3c31d",
   "metadata": {},
   "source": [
    "# Initialize OpenAI API"
   ]
  },
  {
   "cell_type": "code",
   "execution_count": 21,
   "id": "1dc36ee0-f1cd-432c-a8ba-04ceabc85297",
   "metadata": {},
   "outputs": [],
   "source": [
    "embeddings_model = OpenAIEmbeddings(model = 'text-embedding-3-large', # 8191 tokens\n",
    "                                    openai_api_key=OPENAI_API_KEY) # set openai_api_key = 'your_openai_api_key'"
   ]
  },
  {
   "cell_type": "code",
   "execution_count": 22,
   "id": "9bc54bab-ceef-4dfe-b061-3025d6b493ed",
   "metadata": {},
   "outputs": [],
   "source": [
    "#get_embedding(\"This is a test!\")"
   ]
  },
  {
   "cell_type": "markdown",
   "id": "79708737-3c9d-4df9-acc5-df6dea4fcd29",
   "metadata": {},
   "source": [
    "# Create embeddings from texts and save it to vector database"
   ]
  },
  {
   "cell_type": "code",
   "execution_count": 23,
   "id": "cc34a490-f5f8-42a5-9fe9-3f6c7c66b32d",
   "metadata": {},
   "outputs": [],
   "source": [
    "from langchain_core.documents import Document\n",
    "all_documents = [Document(page_content=text, metadata={\"source\":unique_sources[index]} ) for index, text in enumerate(unique_documents)]"
   ]
  },
  {
   "cell_type": "code",
   "execution_count": 25,
   "id": "d7cbda75",
   "metadata": {},
   "outputs": [],
   "source": [
    "# Adding negative example\n",
    "negative_txt_1 = \"\"\"\"Focus on everything not related to the fashion Pinterest dataset. This includes subjects like advanced robotics, the latest developments in quantum computing, \n",
    "detailed explorations of Mars’ geology, historical analyses of the Roman Empire, and deep dives into marine biology. Avoid topics such as clothing trends, fashion accessories, \n",
    "outfit ideas, or any fashion-related photography. The goal is to enrich understanding in areas like technology, science, history, nature, and others which are completely unrelated to fashion.\"\"\"\n",
    "negative_txt_2 =\"Concentrate on topics completely unrelated to the fashion Pinterest dataset. This involves exploring fields such as advanced robotics, the newest breakthroughs in quantum computing, comprehensive studies of Martian geology, historical examination of the Roman Empire, and thorough research in marine biology. Refrain from discussing subjects such as clothing trends, fashion accessories, outfit suggestions, or fashion-related imagery, aiming to enhance knowledge in areas of technology, science, history, and nature.\"\n",
    "negative_txt_3 =\"Shift your attention away from the fashion Pinterest dataset towards a variety of unrelated fields. Delve into areas like advanced robotics, cutting-edge quantum computing innovations, in-depth analysis of Mars’ geological features, the history of the Roman Empire, and detailed studies of marine life. Exclude any reference to clothing trends, fashion accessories, outfit compositions, or fashion photography, focusing instead on expanding comprehension in technology, science, historical studies, and natural sciences.\"\n",
    "negative_txt_4 =\"Focus your research and discussions on topics that have nothing to do with the fashion Pinterest dataset. Engage with subjects including advanced robotics, recent advancements in quantum computing, detailed examinations of the geology of Mars, historical insights into the Roman Empire, and extensive analysis of marine biology. Steer clear of fashion-related topics like clothing trends, accessories, and outfit ideas, with the aim of broadening understanding in distinct areas such as technology, history, science, and nature.\"\n",
    "negative_txt_5 =\"Direct your attention to areas completely detached from the fashion Pinterest dataset, such as advanced robotics, the latest updates in quantum computing, Mars’ geological composition, historical studies of the Roman Empire, and in-depth explorations of marine biology. Stay away from discussing clothing trends, fashion accessories, outfit proposals, or any type of fashion photography, with the objective to foster a richer knowledge base in fields like technology, science, and history.\"\n",
    "negative_txt_6 =\"Investigate subjects unrelated to the fashion Pinterest dataset by focusing on areas like advanced robotics, quantum computing breakthroughs, Mars’ geology, the Roman Empire’s history, and marine biology. Avoid any discussion of fashion trends, accessories, or photographic depictions of outfits, aiming to deepen understanding in diverse fields such as technology, history, and natural sciences.\"\n",
    "negative_source=\"xxx\"\n",
    "\n",
    "neagtive_lst = [negative_txt_1, negative_txt_2, negative_txt_3, negative_txt_4, negative_txt_5, negative_txt_6]\n",
    "for i in neagtive_lst:\n",
    "    all_documents.append(Document(page_content=i, metadata={\"source\":negative_source}))"
   ]
  },
  {
   "cell_type": "code",
   "execution_count": 26,
   "id": "f2e1d6eb-0ebf-4e68-9f56-e9e40462fc3b",
   "metadata": {},
   "outputs": [
    {
     "data": {
      "text/plain": [
       "Document(page_content='Investigate subjects unrelated to the fashion Pinterest dataset by focusing on areas like advanced robotics, quantum computing breakthroughs, Mars’ geology, the Roman Empire’s history, and marine biology. Avoid any discussion of fashion trends, accessories, or photographic depictions of outfits, aiming to deepen understanding in diverse fields such as technology, history, and natural sciences.', metadata={'source': 'xxx'})"
      ]
     },
     "execution_count": 26,
     "metadata": {},
     "output_type": "execute_result"
    }
   ],
   "source": [
    "all_documents[-1]"
   ]
  },
  {
   "cell_type": "code",
   "execution_count": 27,
   "id": "d3f50802-857d-4de3-8e82-554d88ec47b0",
   "metadata": {},
   "outputs": [
    {
     "name": "stdout",
     "output_type": "stream",
     "text": [
      "The code block took 13.970019340515137 seconds to run.\n"
     ]
    }
   ],
   "source": [
    "start_time = time.time()\n",
    "\n",
    "vectordb = Pinecone.from_documents(all_documents, embeddings_model, index_name=index_n)\n",
    "\n",
    "end_time = time.time()\n",
    "elapsed_time = end_time - start_time\n",
    "print(f\"The code block took {elapsed_time} seconds to run.\")"
   ]
  },
  {
   "cell_type": "code",
   "execution_count": null,
   "id": "811a2472-3cbd-44dd-b442-ea06df1a93fe",
   "metadata": {},
   "outputs": [],
   "source": []
  },
  {
   "cell_type": "code",
   "execution_count": null,
   "id": "9c1f1263-bd59-45b1-b36a-def01950da1d",
   "metadata": {},
   "outputs": [],
   "source": []
  },
  {
   "cell_type": "code",
   "execution_count": null,
   "id": "61525370-5a60-4985-a0d5-5e18cb0d9358",
   "metadata": {},
   "outputs": [],
   "source": []
  },
  {
   "cell_type": "code",
   "execution_count": null,
   "id": "00f5ca8d-8567-4bdb-9ea7-1f15cde1e45c",
   "metadata": {},
   "outputs": [],
   "source": []
  },
  {
   "cell_type": "code",
   "execution_count": null,
   "id": "42a6cc47-766d-447e-aa66-289cead64048",
   "metadata": {},
   "outputs": [],
   "source": []
  },
  {
   "cell_type": "code",
   "execution_count": null,
   "id": "55acc0c6-47d1-447b-aeb2-02d682dad9e9",
   "metadata": {},
   "outputs": [],
   "source": []
  },
  {
   "cell_type": "code",
   "execution_count": null,
   "id": "b152038c-70c4-4fed-8859-b47759c7279b",
   "metadata": {},
   "outputs": [],
   "source": []
  }
 ],
 "metadata": {
  "kernelspec": {
   "display_name": "Python 3 (ipykernel)",
   "language": "python",
   "name": "python3"
  },
  "language_info": {
   "codemirror_mode": {
    "name": "ipython",
    "version": 3
   },
   "file_extension": ".py",
   "mimetype": "text/x-python",
   "name": "python",
   "nbconvert_exporter": "python",
   "pygments_lexer": "ipython3",
   "version": "3.10.12"
  }
 },
 "nbformat": 4,
 "nbformat_minor": 5
}
